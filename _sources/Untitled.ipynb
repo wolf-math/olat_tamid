{
 "cells": [
  {
   "cell_type": "markdown",
   "id": "8028635f-82ac-481c-8eb8-523c656df865",
   "metadata": {
    "editable": true,
    "slideshow": {
     "slide_type": ""
    },
    "tags": []
   },
   "source": [
    "# Orange juice tedgvkjn"
   ]
  },
  {
   "cell_type": "code",
   "execution_count": null,
   "id": "143c05ab-4160-4963-87e0-e49f57189a02",
   "metadata": {
    "editable": true,
    "slideshow": {
     "slide_type": ""
    },
    "tags": []
   },
   "outputs": [],
   "source": []
  }
 ],
 "metadata": {
  "kernelspec": {
   "display_name": "Python 3 (ipykernel)",
   "language": "python",
   "name": "python3"
  },
  "language_info": {
   "codemirror_mode": {
    "name": "ipython",
    "version": 3
   },
   "file_extension": ".py",
   "mimetype": "text/x-python",
   "name": "python",
   "nbconvert_exporter": "python",
   "pygments_lexer": "ipython3",
   "version": "3.10.5"
  }
 },
 "nbformat": 4,
 "nbformat_minor": 5
}
