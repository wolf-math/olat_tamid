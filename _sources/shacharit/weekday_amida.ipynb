{
 "cells": [
  {
   "cell_type": "markdown",
   "id": "ff8e9a5b-f016-4b75-9bc8-d53fabf7b640",
   "metadata": {
    "editable": true,
    "slideshow": {
     "slide_type": ""
    },
    "tags": []
   },
   "source": [
    "# תפילת העמידה"
   ]
  },
  {
   "cell_type": "code",
   "execution_count": null,
   "id": "9ffcf405-de13-4d06-ab8a-00afa808ca53",
   "metadata": {
    "editable": true,
    "slideshow": {
     "slide_type": ""
    },
    "tags": []
   },
   "outputs": [],
   "source": [
    "service = 'shacharit'\n",
    "\n",
    "%run ../components/weekday_amida.ipynb\n"
   ]
  }
 ],
 "metadata": {
  "kernelspec": {
   "display_name": "Python 3 (ipykernel)",
   "language": "python",
   "name": "python3"
  },
  "language_info": {
   "codemirror_mode": {
    "name": "ipython",
    "version": 3
   },
   "file_extension": ".py",
   "mimetype": "text/x-python",
   "name": "python",
   "nbconvert_exporter": "python",
   "pygments_lexer": "ipython3",
   "version": "3.10.5"
  }
 },
 "nbformat": 4,
 "nbformat_minor": 5
}
