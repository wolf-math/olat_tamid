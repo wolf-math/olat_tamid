{
 "cells": [
  {
   "cell_type": "code",
   "execution_count": 1,
   "id": "5f7a13c0-3f0d-4510-8144-74e9b571b16d",
   "metadata": {
    "editable": true,
    "slideshow": {
     "slide_type": ""
    },
    "tags": [
     "remove-input"
    ]
   },
   "outputs": [],
   "source": [
    "import sys\n",
    "import os\n",
    "\n",
    "module_path = os.path.abspath('..')\n",
    "\n",
    "if module_path not in sys.path:\n",
    "    sys.path.append(module_path)\n",
    "\n",
    "from IPython.display import Markdown\n",
    "from tanakh_reader import verse, chapter, verses\n",
    "from word_formatter import bold_first_word as bfw\n",
    "from shem_converter import double_yud as dy"
   ]
  },
  {
   "cell_type": "markdown",
   "id": "a7c3df3e-785d-431b-b24f-fe74c5d4f4d3",
   "metadata": {},
   "source": [
    "import half kaddish"
   ]
  },
  {
   "cell_type": "markdown",
   "id": "34f7479a-c07d-4402-9b21-6ede75b9a9c1",
   "metadata": {},
   "source": [
    "#  קריאת שמע וברכותיה "
   ]
  },
  {
   "cell_type": "markdown",
   "id": "aa410902-62c6-41ea-b510-521dc85f8c80",
   "metadata": {
    "editable": true,
    "slideshow": {
     "slide_type": ""
    },
    "tags": []
   },
   "source": [
    "בָּרֲכוּ אֶת יְיָ הַמְֿבֹרָךְ:\n",
    "\n",
    "בָּרוּךְ יְיָ הַמְֿבֹרָךְ לְעוֹלָם וָעֶד:\n",
    "\n",
    "יִתְבָּרַךְ וְיִשְׁתַּבַּח וְיִתְפָּאַר וְיִתְרוֹמַם וְיִתְנַשֵּׂא שְׁמוֹ שֶׁל מֶֽלֶךְ מַלְכֵי הַמְּֿלָכִים הַקָּדוֹשׁ בָּרוּךְ הוּא: שֶׁהוּא רִאשׁוֹן וְהוּא אַחֲרוֹן וּמִבַּלְעָדָיו אֵין אֱלֹהִים: \\source{תהלים סח}סֹ֡לּוּ לָֽרֹכֵ֣ב ֖בָּֽעֲרָבוֹת בְּיָ֥הּ שְׁ֜מ֗וֹ וְעִלְז֥וּ לְפָנָֽיו׃ וּשְׁמוֹ מְרוֹמָם עַל־כָּל־בְּרָכָה וּתְהִלָּה: בָּרוּךְ שֵׁם כְּבוֺד מַלְכוּתוֺ לְעוֺלָם וָעֶד׃ יְהִ֤י \\source{תהלים קיג}שֵׁ֣ם יְיָ֣ מְבֹרָ֑ךְ מֵֽ֝עַתָּ֗ה וְעַד־עוֹלָֽם׃"
   ]
  },
  {
   "cell_type": "markdown",
   "id": "eff17f22-c8a4-46a3-8175-2a91ae5a4b61",
   "metadata": {},
   "source": [
    "בָּרוּךְ אַתָּה יְיָ אֱלֹהֵֽינוּ מֶֽלֶךְ הָעוֹלָם יוֹצֵר אוֹר וּבוֹרֵא חֹֽשֶׁךְ עֹשֶׂה שָׁלוֹם וּבוֹרֵא אֶת־הַכֹּל:"
   ]
  },
  {
   "cell_type": "code",
   "execution_count": 2,
   "id": "c27d2e44-ed80-4dda-b0b9-0d4f6a7ccd3b",
   "metadata": {
    "editable": true,
    "slideshow": {
     "slide_type": ""
    },
    "tags": [
     "remove-input"
    ]
   },
   "outputs": [
    {
     "data": {
      "text/markdown": [
       "**הַמֵּאִיר** לָאָֽרֶץ וְלַדָּרִים עָלֶֽיהָ בְּרַחֲמִים וּבְטוּבוֹ מְחַדֵּשׁ בְּכָל־יוֹם תָּמִיד מַעֲשֵׂה בְרֵאשִׁית: מָה־רַבּוּ מַעֲשֶׂיךָ יְיָ כֻּלָּם בְּחָכְמָה עָשִׂיתָ מָלְאָה הָאָרֶץ קִנְיָנֶךָ׃ הַמֶּֽלֶךְ הַמְֿרוֹמָם לְבַדּוֹ מֵאָז הַמְֿשֻׁבָּח וְהַמְֿפֹאָר וְהַמִּתְנַשֵּׂא מִימוֹת עוֹלָם: אֱלֹהֵי עוֹלָם בְּרַחֲמֶיךָ הָרַבִּים רַחֵם עָלֵינוּ אֲדוֹן עֻזֵּֽנוּ צוּר מִשְׂגַּבֵּנוּ מָגֵן יִשְׁעֵֽנוּ מִשְׂגָּב בַּעֲדֵֽנוּ : אֵ֗ל בָּ֗רוּךְ גְּ֗דוֹל דֵּ֗עָה הֵ֗כִין וּ֗פָעַל זָ֗הֳרֵי חַ֗מָּה ט֗וֹב יָ֗צַר כָּ֗בוֹד לִ֗שְׁמוֹ מְ֗אוֹרוֹת נָ֗תַן סְ֗בִיבוֹת עֻ֗זּוֹ פִּ֗נּוֹת צְ֗בָאָיו קְ֗דוֹשִׁים ר֗וֹמֲמֵי שַׁ֗דַּי תָּ֗מִיד מְסַפְּֿרִים כְּבוֹד־אֵל וּקְדֻשָׁתוֹ : תִּתְבָּרַךְ יְיָ אֱלֹהֵֽינוּ עַל־שֶׁבַח מַעֲשֵׂי יָדֶֽיךָ וְעַל־מְאֽוֹרֵי אוֹר שֶׁעָשִֽׂיתָ יְפָאֲרֽוּךָ סֶּֽלָה:"
      ],
      "text/plain": [
       "<IPython.core.display.Markdown object>"
      ]
     },
     "execution_count": 2,
     "metadata": {},
     "output_type": "execute_result"
    }
   ],
   "source": [
    "text = f'''\n",
    "הַמֵּאִיר לָאָֽרֶץ וְלַדָּרִים עָלֶֽיהָ בְּרַחֲמִים וּבְטוּבוֹ מְחַדֵּשׁ בְּכָל־יוֹם תָּמִיד מַעֲשֵׂה בְרֵאשִׁית: \n",
    "{verse('psalms', 104, 24)[1]}\n",
    "הַמֶּֽלֶךְ הַמְֿרוֹמָם לְבַדּוֹ מֵאָז הַמְֿשֻׁבָּח וְהַמְֿפֹאָר וְהַמִּתְנַשֵּׂא מִימוֹת עוֹלָם:\n",
    "אֱלֹהֵי עוֹלָם בְּרַחֲמֶיךָ הָרַבִּים רַחֵם עָלֵינוּ אֲדוֹן עֻזֵּֽנוּ צוּר מִשְׂגַּבֵּנוּ מָגֵן יִשְׁעֵֽנוּ מִשְׂגָּב בַּעֲדֵֽנוּ\n",
    ": אֵ֗ל בָּ֗רוּךְ גְּ֗דוֹל דֵּ֗עָה הֵ֗כִין וּ֗פָעַל זָ֗הֳרֵי חַ֗מָּה ט֗וֹב יָ֗צַר כָּ֗בוֹד לִ֗שְׁמוֹ מְ֗אוֹרוֹת נָ֗תַן סְ֗בִיבוֹת עֻ֗זּוֹ פִּ֗נּוֹת צְ֗בָאָיו קְ֗דוֹשִׁים ר֗וֹמֲמֵי שַׁ֗דַּי תָּ֗מִיד מְסַפְּֿרִים כְּבוֹד־אֵל וּקְדֻשָׁתוֹ\n",
    ": תִּתְבָּרַךְ יְיָ אֱלֹהֵֽינוּ עַל־שֶׁבַח מַעֲשֵׂי יָדֶֽיךָ וְעַל־מְאֽוֹרֵי אוֹר שֶׁעָשִֽׂיתָ יְפָאֲרֽוּךָ סֶּֽלָה:\n",
    "'''\n",
    "\n",
    "Markdown(bfw(dy(text)))"
   ]
  },
  {
   "cell_type": "code",
   "execution_count": 3,
   "id": "8be32c9a-47fe-408e-942e-c73fb5cf3102",
   "metadata": {
    "editable": true,
    "slideshow": {
     "slide_type": ""
    },
    "tags": [
     "remove-input"
    ]
   },
   "outputs": [
    {
     "data": {
      "text/markdown": [
       "**תִּתְבָּרַךְ** צוּרֵֽנוּ מַלְכֵּֽנוּ וְגוֹאֲלֵֽנוּ בּוֹרֵא קְדוֹשִׁים: יִשְׁתַּבַּח שִׁמְךָ־לָעַד מַלְכֵּֽנוּ יוֹצֵר מְשָׁרֲתִים וַאֲשֶׁר מְשָׁרֲתָיו כֻּלָּם עוֹמְֿדִים בְּרוּם עוֹלָם וּמַשְׁמִיעִים בְּיִרְאָה יַֽחַד בְּקוֹל דִּבְרֵי אֱלֹהִים חַיִּים וּמֶֽלֶךְ עוֹלָם : כֻּלָּם אֲהוּבִים כֻּלָּם בְּרוּרִים כֻּלָּם גִּבּוֹרִים וְכֻלָּם עֹשִׂים בְּאֵימָה וּבְיִרְאָה רְצוֹן קוׂנֵיהֶם: וְכֻלָּם פּוֹתְֿחִים אֶת־פִּיהֶם בִּקְדֻשָּׁה וּבְטָהֳרָה בְּשִׁירָה וּבְזִמְרָה וְּמְבָרֲכִים וּמְשַׁבְּֿחִים וּמְפָאֲרִים וּמַעֲרִיצִים וּמַקְדִּישִׁים וּמַמְלִיכִים --"
      ],
      "text/plain": [
       "<IPython.core.display.Markdown object>"
      ]
     },
     "execution_count": 3,
     "metadata": {},
     "output_type": "execute_result"
    }
   ],
   "source": [
    "text = '''\n",
    "תִּתְבָּרַךְ צוּרֵֽנוּ מַלְכֵּֽנוּ וְגוֹאֲלֵֽנוּ בּוֹרֵא קְדוֹשִׁים:\n",
    "יִשְׁתַּבַּח שִׁמְךָ־לָעַד מַלְכֵּֽנוּ יוֹצֵר מְשָׁרֲתִים וַאֲשֶׁר מְשָׁרֲתָיו\n",
    "כֻּלָּם עוֹמְֿדִים בְּרוּם עוֹלָם וּמַשְׁמִיעִים בְּיִרְאָה יַֽחַד בְּקוֹל דִּבְרֵי אֱלֹהִים חַיִּים וּמֶֽלֶךְ עוֹלָם\n",
    ": כֻּלָּם אֲהוּבִים כֻּלָּם בְּרוּרִים כֻּלָּם גִּבּוֹרִים וְכֻלָּם עֹשִׂים בְּאֵימָה וּבְיִרְאָה רְצוֹן קוׂנֵיהֶם:\n",
    "וְכֻלָּם פּוֹתְֿחִים אֶת־פִּיהֶם בִּקְדֻשָּׁה וּבְטָהֳרָה בְּשִׁירָה וּבְזִמְרָה וְּמְבָרֲכִים וּמְשַׁבְּֿחִים וּמְפָאֲרִים וּמַעֲרִיצִים וּמַקְדִּישִׁים וּמַמְלִיכִים \n",
    "-- \n",
    "'''\n",
    "\n",
    "Markdown(bfw(dy(text)))"
   ]
  },
  {
   "cell_type": "code",
   "execution_count": 4,
   "id": "2379e97a-fb66-43e6-a02c-e3742aab1851",
   "metadata": {
    "editable": true,
    "slideshow": {
     "slide_type": ""
    },
    "tags": [
     "remove-input"
    ]
   },
   "outputs": [
    {
     "data": {
      "text/markdown": [
       "**אֶת** שֵׁם הָאֵל הַמֶּֽלֶךְ הַגָּדוֹל הַגִּבּוֹר וְהַנּוֹרָא קָדוֹשׁ הוּא:"
      ],
      "text/plain": [
       "<IPython.core.display.Markdown object>"
      ]
     },
     "execution_count": 4,
     "metadata": {},
     "output_type": "execute_result"
    }
   ],
   "source": [
    "text = '''\n",
    "אֶת שֵׁם הָאֵל הַמֶּֽלֶךְ הַגָּדוֹל הַגִּבּוֹר וְהַנּוֹרָא קָדוֹשׁ הוּא:\n",
    "'''\n",
    "\n",
    "Markdown(bfw(dy(text)))"
   ]
  },
  {
   "cell_type": "code",
   "execution_count": 5,
   "id": "f7c61ed6-dcb5-4e23-86fd-8c79ff4a501f",
   "metadata": {
    "editable": true,
    "slideshow": {
     "slide_type": ""
    },
    "tags": [
     "remove-input"
    ]
   },
   "outputs": [
    {
     "data": {
      "text/markdown": [
       "**וְכֻלָּם** מְקַבְּֿלִים עֲלֵיהֶם עֹל מַלְכוּת שָׁמַֽיִם זֶה מִזֶּה וְנוֹתְֿנִים רְשׁוּת זֶה לָזֶה לְהַקְדִּישׁ לְיוֹצְֿרָם בְּנַֽחַת רֽוּחַ בְּשָׂפָה בְּרוּרָה וּבִנְעִימָה: קְדֻשָּׁה כֻּלָּם כְּאֶחָד עוֹנִים וְאוֹמְֿרִים בְּיִרְאָה:"
      ],
      "text/plain": [
       "<IPython.core.display.Markdown object>"
      ]
     },
     "execution_count": 5,
     "metadata": {},
     "output_type": "execute_result"
    }
   ],
   "source": [
    "text = '''\n",
    "וְכֻלָּם מְקַבְּֿלִים עֲלֵיהֶם עֹל מַלְכוּת שָׁמַֽיִם זֶה מִזֶּה וְנוֹתְֿנִים רְשׁוּת זֶה לָזֶה לְהַקְדִּישׁ לְיוֹצְֿרָם בְּנַֽחַת רֽוּחַ בְּשָׂפָה בְּרוּרָה וּבִנְעִימָה: קְדֻשָּׁה כֻּלָּם כְּאֶחָד עוֹנִים וְאוֹמְֿרִים בְּיִרְאָה:\n",
    "'''\n",
    "\n",
    "Markdown(bfw(dy(text)))"
   ]
  },
  {
   "cell_type": "code",
   "execution_count": 6,
   "id": "2d22580c-d0e3-4668-8f29-178b1ba0796e",
   "metadata": {
    "editable": true,
    "slideshow": {
     "slide_type": ""
    },
    "tags": [
     "remove-input"
    ]
   },
   "outputs": [
    {
     "data": {
      "text/markdown": [
       "**קָדוֹשׁ** קָדוֹשׁ קָדוֹשׁ יְיָ צְבָאוֹת מְלֹא כָל־הָאָרֶץ כְּבוֹדוֹ׃"
      ],
      "text/plain": [
       "<IPython.core.display.Markdown object>"
      ]
     },
     "execution_count": 6,
     "metadata": {},
     "output_type": "execute_result"
    }
   ],
   "source": [
    "kadosh = verse('isaiah', 6, 3)[1].split(' ')\n",
    "text = ' '.join(kadosh[4:])\n",
    "\n",
    "Markdown(bfw(dy(text)))"
   ]
  },
  {
   "cell_type": "code",
   "execution_count": 7,
   "id": "da51cbfa-9a94-4831-b9e7-9902e981db7e",
   "metadata": {
    "editable": true,
    "slideshow": {
     "slide_type": ""
    },
    "tags": [
     "remove-input"
    ]
   },
   "outputs": [
    {
     "data": {
      "text/markdown": [
       "**וְהָאוֹפַנִּים** וְחַיּוֹת הַקֹּֽדֶשׁ בְּרַֽעַשׁ גָּדוֹל מִתְנַשְּֿׂאִים לְעֻמַּת שְׂרָפִים לְעֻמָּתָם מְשַׁבְּֿחִים וְאוֹמְֿרִים:"
      ],
      "text/plain": [
       "<IPython.core.display.Markdown object>"
      ]
     },
     "execution_count": 7,
     "metadata": {},
     "output_type": "execute_result"
    }
   ],
   "source": [
    "text = \"וְהָאוֹפַנִּים וְחַיּוֹת הַקֹּֽדֶשׁ בְּרַֽעַשׁ גָּדוֹל מִתְנַשְּֿׂאִים לְעֻמַּת שְׂרָפִים לְעֻמָּתָם מְשַׁבְּֿחִים וְאוֹמְֿרִים:\"\n",
    "Markdown(bfw(dy(text)))"
   ]
  },
  {
   "cell_type": "code",
   "execution_count": null,
   "id": "705d3f43-c6c4-4625-b809-6502a701fc75",
   "metadata": {},
   "outputs": [],
   "source": []
  }
 ],
 "metadata": {
  "kernelspec": {
   "display_name": "Python 3 (ipykernel)",
   "language": "python",
   "name": "python3"
  },
  "language_info": {
   "codemirror_mode": {
    "name": "ipython",
    "version": 3
   },
   "file_extension": ".py",
   "mimetype": "text/x-python",
   "name": "python",
   "nbconvert_exporter": "python",
   "pygments_lexer": "ipython3",
   "version": "3.10.5"
  }
 },
 "nbformat": 4,
 "nbformat_minor": 5
}
